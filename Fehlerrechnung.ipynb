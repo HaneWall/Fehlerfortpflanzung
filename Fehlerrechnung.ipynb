{
 "cells": [
  {
   "cell_type": "code",
   "execution_count": 1,
   "metadata": {},
   "outputs": [],
   "source": [
    "import sympy as sp\n",
    "import numpy as np\n",
    "import matplotlib as plt \n",
    "from IPython.display import display,Latex,Math "
   ]
  },
  {
   "cell_type": "code",
   "execution_count": 2,
   "metadata": {},
   "outputs": [],
   "source": [
    "#Hier die Variablen deklarieren/ \"z\" ist reserviert und darf nicht verwendet werden\n",
    "h,r,T = sp.symbols('h r T') #hier Variablennamen einsetzen\n",
    "variablen = [h,r,T]         #hier Variablennamen einsetzen\n",
    "#Zahlenwerte und Fehlerwerte\n",
    "variablen_werte = [2.8,4.2,2.4]    #Werte h=2.8, r=4.2, T=2.4 /hier Werte einsetzen\n",
    "sfehler_werte = [0.01,0.03,0.01]   #systematische Fehlerwerte für einzelne Größen \n",
    "zfehler_werte = [0.05,0.02,0]      #zufällige Fehlerwerte für einzelne Größen"
   ]
  },
  {
   "cell_type": "code",
   "execution_count": 3,
   "metadata": {},
   "outputs": [],
   "source": [
    "#Funktion deklarieren, bei sin, exp etc. sp. davor schreiben, ansonsten bei Exponenten anstatt '^', '**' benutzen  \n",
    "funktion = h**2*r*sp.sin(T)"
   ]
  },
  {
   "cell_type": "code",
   "execution_count": 4,
   "metadata": {},
   "outputs": [],
   "source": [
    "fehler_werte = []                         #erstellt Liste mit den gesamten Fehler der einzelnen Größen\n",
    "for z in range(0,len(variablen)):\n",
    "    fehler_werte.append(sfehler_werte[z] + zfehler_werte[z])       "
   ]
  },
  {
   "cell_type": "code",
   "execution_count": 5,
   "metadata": {
    "scrolled": true
   },
   "outputs": [
    {
     "name": "stdout",
     "output_type": "stream",
     "text": [
      "zufälliger Fehler überwiegt --> quadratische Fehlerfortpflanzung, da:\n"
     ]
    },
    {
     "data": {
      "text/latex": [
       "$$h^{4} r^{2} \\Delta T^{2} \\cos^{2}{\\left (T \\right )} + h^{4} \\Delta r^{2} \\sin^{2}{\\left (T \\right )} < 4 h^{2} r^{2} \\Delta h^{2} \\sin^{2}{\\left (T \\right )}$$"
      ],
      "text/plain": [
       "<IPython.core.display.Math object>"
      ]
     },
     "metadata": {},
     "output_type": "display_data"
    },
    {
     "data": {
      "text/latex": [
       "$$0.12906548987393<0.908616244232771$$"
      ],
      "text/plain": [
       "<IPython.core.display.Math object>"
      ]
     },
     "metadata": {},
     "output_type": "display_data"
    }
   ],
   "source": [
    "#Entscheidung über Art der Fehlerfortpflanzung \n",
    "zufall = 0 \n",
    "system = 0 \n",
    "fehler_symbole = []\n",
    "quad_ableitungen = []                        \n",
    "decision_maker = []                          #0 = lineare Fehlerfortpflanzung, 1 = quadratische Fehlerfortpflanzung\n",
    "\n",
    "for var in variablen:                        #z wird später mit den Fehlern ersetzt\n",
    "    z = sp.symbols('z'+var.name)             #erstellen Symbole nachdenen später differenziert werden soll \n",
    "    fehler_symbole.append(z)\n",
    "    partial = sp.diff(funktion,var)*z\n",
    "    quad_ableitungen.append(partial**2)\n",
    "\n",
    "for z in range(0,len(variablen)):\n",
    "    if sfehler_werte[z]>zfehler_werte[z]:\n",
    "        system += quad_ableitungen[z] \n",
    "    else:\n",
    "        zufall += quad_ableitungen[z] \n",
    "\n",
    "        \n",
    "lin_error1=sp.Subs(system,variablen,variablen_werte).doit()\n",
    "lin_error2=sp.Subs(lin_error1,fehler_symbole, fehler_werte).doit()\n",
    "\n",
    "quad_error1=sp.Subs(zufall,variablen,variablen_werte).doit()\n",
    "quad_error2=sp.Subs(quad_error1,fehler_symbole,fehler_werte).doit()\n",
    "\n",
    "if quad_error2>lin_error2:\n",
    "    decision_maker.append(1)\n",
    "    print('zufälliger Fehler überwiegt --> quadratische Fehlerfortpflanzung, da:')\n",
    "    \n",
    "    display(Math(sp.latex(system).replace('z',r'\\Delta ')+' < '+sp.latex(zufall).replace('z',r'\\Delta '))) \n",
    "    display(Math(sp.latex(lin_error2) + '<' + sp.latex(quad_error2)))\n",
    "\n",
    "else: \n",
    "    decision_maker.append(0)\n",
    "    print('systematischer Fehler überwiegt --> lineare Fehlerfortpflanzung, da:')\n",
    "    display(Math(sp.latex(system).replace('z',r'\\Delta ')+' > '+sp.latex(zufall).replace('z',r'\\Delta '))) \n",
    "    display(Math(sp.latex(lin_error2) + '>' + sp.latex(quad_error2)))"
   ]
  },
  {
   "cell_type": "code",
   "execution_count": 6,
   "metadata": {},
   "outputs": [
    {
     "name": "stdout",
     "output_type": "stream",
     "text": [
      "Funktion:\n"
     ]
    },
    {
     "data": {
      "text/latex": [
       "$$f =h^{2} r \\sin{\\left (T \\right )}=22.2416516091883$$"
      ],
      "text/plain": [
       "<IPython.core.display.Math object>"
      ]
     },
     "metadata": {},
     "output_type": "display_data"
    },
    {
     "name": "stdout",
     "output_type": "stream",
     "text": [
      "absoluter Fehler:\n"
     ]
    },
    {
     "data": {
      "text/latex": [
       "$$\\Delta f =\\sqrt{\\left|{h^{4} \\Delta r^{2} \\sin^{2}{\\left (T \\right )}}\\right| + 4 \\left|{h^{2} r^{2} \\Delta h^{2} \\sin^{2}{\\left (T \\right )}}\\right| + \\left|{h^{4} r^{2} \\Delta T^{2} \\cos^{2}{\\left (T \\right )}}\\right|}=1.01866664523126$$"
      ],
      "text/plain": [
       "<IPython.core.display.Math object>"
      ]
     },
     "metadata": {},
     "output_type": "display_data"
    },
    {
     "name": "stdout",
     "output_type": "stream",
     "text": [
      "relativer Fehler:\n"
     ]
    },
    {
     "data": {
      "text/latex": [
       "$$ \\frac{\\Delta f}{f} =0.0457999551081194$$"
      ],
      "text/plain": [
       "<IPython.core.display.Math object>"
      ]
     },
     "metadata": {},
     "output_type": "display_data"
    }
   ],
   "source": [
    "#Fortsetzung der Fehlerrechung, da nun Art und Weise feststeht\n",
    "abs_fehler = 0\n",
    "rel_fehler = 0 \n",
    "\n",
    "funktionswert = sp.Subs(funktion,variablen,variablen_werte).doit() \n",
    "print('Funktion:')\n",
    "display(Math(r'f ='+sp.latex(funktion)+'='+str(funktionswert)))\n",
    "\n",
    "if decision_maker[0] == 0:                      #lineare Fehlerfortpflanzung \n",
    "    for z in range(0,len(variablen)):\n",
    "        abs_fehler += sp.sqrt(np.absolute(quad_ableitungen[z]))\n",
    "    \n",
    "    abs_fehler = sp.simplify(abs_fehler)\n",
    "    error1 = sp.Subs(abs_fehler,variablen,variablen_werte)\n",
    "    abs_fehlerwert = sp.Subs(error1,fehler_symbole, fehler_werte).doit()\n",
    "    rel_fehler = abs_fehlerwert/funktionswert\n",
    "    \n",
    "    \n",
    "\n",
    "else:                                           #quadratische Fehlerfortpflanzung \n",
    "    for z in range(0,len(variablen)):\n",
    "        abs_fehler += np.absolute(quad_ableitungen[z])\n",
    "        \n",
    "    abs_fehler = sp.simplify(sp.sqrt(abs_fehler))\n",
    "    error1 = sp.Subs(abs_fehler,variablen,variablen_werte)\n",
    "    abs_fehlerwert = sp.Subs(error1,fehler_symbole, fehler_werte).doit()\n",
    "    rel_fehler = abs_fehlerwert/funktionswert\n",
    "   \n",
    "print('absoluter Fehler:')\n",
    "display(Math(r'\\Delta f ='+ sp.latex(abs_fehler).replace('z',r'\\Delta ') +'='+ str(abs_fehlerwert)))\n",
    "print('relativer Fehler:')\n",
    "display(Math(r' \\frac{\\Delta f}{f} =' + str(rel_fehler)))"
   ]
  },
  {
   "cell_type": "code",
   "execution_count": null,
   "metadata": {},
   "outputs": [],
   "source": []
  }
 ],
 "metadata": {
  "kernelspec": {
   "display_name": "Python 3",
   "language": "python",
   "name": "python3"
  },
  "language_info": {
   "codemirror_mode": {
    "name": "ipython",
    "version": 3
   },
   "file_extension": ".py",
   "mimetype": "text/x-python",
   "name": "python",
   "nbconvert_exporter": "python",
   "pygments_lexer": "ipython3",
   "version": "3.7.0"
  }
 },
 "nbformat": 4,
 "nbformat_minor": 2
}
